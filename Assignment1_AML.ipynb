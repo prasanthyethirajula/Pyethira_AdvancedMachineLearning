{
  "cells": [
    {
      "cell_type": "code",
      "execution_count": 31,
      "id": "4b1fd9d2",
      "metadata": {
        "colab": {
          "base_uri": "https://localhost:8080/"
        },
        "id": "4b1fd9d2",
        "outputId": "6a895b92-7373-4e2c-8610-65ac66bebdcb"
      },
      "outputs": [
        {
          "output_type": "stream",
          "name": "stdout",
          "text": [
            "Requirement already satisfied: tensorflow in /usr/local/lib/python3.10/dist-packages (2.15.0)\n",
            "Requirement already satisfied: absl-py>=1.0.0 in /usr/local/lib/python3.10/dist-packages (from tensorflow) (1.4.0)\n",
            "Requirement already satisfied: astunparse>=1.6.0 in /usr/local/lib/python3.10/dist-packages (from tensorflow) (1.6.3)\n",
            "Requirement already satisfied: flatbuffers>=23.5.26 in /usr/local/lib/python3.10/dist-packages (from tensorflow) (23.5.26)\n",
            "Requirement already satisfied: gast!=0.5.0,!=0.5.1,!=0.5.2,>=0.2.1 in /usr/local/lib/python3.10/dist-packages (from tensorflow) (0.5.4)\n",
            "Requirement already satisfied: google-pasta>=0.1.1 in /usr/local/lib/python3.10/dist-packages (from tensorflow) (0.2.0)\n",
            "Requirement already satisfied: h5py>=2.9.0 in /usr/local/lib/python3.10/dist-packages (from tensorflow) (3.9.0)\n",
            "Requirement already satisfied: libclang>=13.0.0 in /usr/local/lib/python3.10/dist-packages (from tensorflow) (16.0.6)\n",
            "Requirement already satisfied: ml-dtypes~=0.2.0 in /usr/local/lib/python3.10/dist-packages (from tensorflow) (0.2.0)\n",
            "Requirement already satisfied: numpy<2.0.0,>=1.23.5 in /usr/local/lib/python3.10/dist-packages (from tensorflow) (1.25.2)\n",
            "Requirement already satisfied: opt-einsum>=2.3.2 in /usr/local/lib/python3.10/dist-packages (from tensorflow) (3.3.0)\n",
            "Requirement already satisfied: packaging in /usr/local/lib/python3.10/dist-packages (from tensorflow) (23.2)\n",
            "Requirement already satisfied: protobuf!=4.21.0,!=4.21.1,!=4.21.2,!=4.21.3,!=4.21.4,!=4.21.5,<5.0.0dev,>=3.20.3 in /usr/local/lib/python3.10/dist-packages (from tensorflow) (3.20.3)\n",
            "Requirement already satisfied: setuptools in /usr/local/lib/python3.10/dist-packages (from tensorflow) (67.7.2)\n",
            "Requirement already satisfied: six>=1.12.0 in /usr/local/lib/python3.10/dist-packages (from tensorflow) (1.16.0)\n",
            "Requirement already satisfied: termcolor>=1.1.0 in /usr/local/lib/python3.10/dist-packages (from tensorflow) (2.4.0)\n",
            "Requirement already satisfied: typing-extensions>=3.6.6 in /usr/local/lib/python3.10/dist-packages (from tensorflow) (4.9.0)\n",
            "Requirement already satisfied: wrapt<1.15,>=1.11.0 in /usr/local/lib/python3.10/dist-packages (from tensorflow) (1.14.1)\n",
            "Requirement already satisfied: tensorflow-io-gcs-filesystem>=0.23.1 in /usr/local/lib/python3.10/dist-packages (from tensorflow) (0.36.0)\n",
            "Requirement already satisfied: grpcio<2.0,>=1.24.3 in /usr/local/lib/python3.10/dist-packages (from tensorflow) (1.60.1)\n",
            "Requirement already satisfied: tensorboard<2.16,>=2.15 in /usr/local/lib/python3.10/dist-packages (from tensorflow) (2.15.2)\n",
            "Requirement already satisfied: tensorflow-estimator<2.16,>=2.15.0 in /usr/local/lib/python3.10/dist-packages (from tensorflow) (2.15.0)\n",
            "Requirement already satisfied: keras<2.16,>=2.15.0 in /usr/local/lib/python3.10/dist-packages (from tensorflow) (2.15.0)\n",
            "Requirement already satisfied: wheel<1.0,>=0.23.0 in /usr/local/lib/python3.10/dist-packages (from astunparse>=1.6.0->tensorflow) (0.42.0)\n",
            "Requirement already satisfied: google-auth<3,>=1.6.3 in /usr/local/lib/python3.10/dist-packages (from tensorboard<2.16,>=2.15->tensorflow) (2.27.0)\n",
            "Requirement already satisfied: google-auth-oauthlib<2,>=0.5 in /usr/local/lib/python3.10/dist-packages (from tensorboard<2.16,>=2.15->tensorflow) (1.2.0)\n",
            "Requirement already satisfied: markdown>=2.6.8 in /usr/local/lib/python3.10/dist-packages (from tensorboard<2.16,>=2.15->tensorflow) (3.5.2)\n",
            "Requirement already satisfied: requests<3,>=2.21.0 in /usr/local/lib/python3.10/dist-packages (from tensorboard<2.16,>=2.15->tensorflow) (2.31.0)\n",
            "Requirement already satisfied: tensorboard-data-server<0.8.0,>=0.7.0 in /usr/local/lib/python3.10/dist-packages (from tensorboard<2.16,>=2.15->tensorflow) (0.7.2)\n",
            "Requirement already satisfied: werkzeug>=1.0.1 in /usr/local/lib/python3.10/dist-packages (from tensorboard<2.16,>=2.15->tensorflow) (3.0.1)\n",
            "Requirement already satisfied: cachetools<6.0,>=2.0.0 in /usr/local/lib/python3.10/dist-packages (from google-auth<3,>=1.6.3->tensorboard<2.16,>=2.15->tensorflow) (5.3.2)\n",
            "Requirement already satisfied: pyasn1-modules>=0.2.1 in /usr/local/lib/python3.10/dist-packages (from google-auth<3,>=1.6.3->tensorboard<2.16,>=2.15->tensorflow) (0.3.0)\n",
            "Requirement already satisfied: rsa<5,>=3.1.4 in /usr/local/lib/python3.10/dist-packages (from google-auth<3,>=1.6.3->tensorboard<2.16,>=2.15->tensorflow) (4.9)\n",
            "Requirement already satisfied: requests-oauthlib>=0.7.0 in /usr/local/lib/python3.10/dist-packages (from google-auth-oauthlib<2,>=0.5->tensorboard<2.16,>=2.15->tensorflow) (1.3.1)\n",
            "Requirement already satisfied: charset-normalizer<4,>=2 in /usr/local/lib/python3.10/dist-packages (from requests<3,>=2.21.0->tensorboard<2.16,>=2.15->tensorflow) (3.3.2)\n",
            "Requirement already satisfied: idna<4,>=2.5 in /usr/local/lib/python3.10/dist-packages (from requests<3,>=2.21.0->tensorboard<2.16,>=2.15->tensorflow) (3.6)\n",
            "Requirement already satisfied: urllib3<3,>=1.21.1 in /usr/local/lib/python3.10/dist-packages (from requests<3,>=2.21.0->tensorboard<2.16,>=2.15->tensorflow) (2.0.7)\n",
            "Requirement already satisfied: certifi>=2017.4.17 in /usr/local/lib/python3.10/dist-packages (from requests<3,>=2.21.0->tensorboard<2.16,>=2.15->tensorflow) (2024.2.2)\n",
            "Requirement already satisfied: MarkupSafe>=2.1.1 in /usr/local/lib/python3.10/dist-packages (from werkzeug>=1.0.1->tensorboard<2.16,>=2.15->tensorflow) (2.1.5)\n",
            "Requirement already satisfied: pyasn1<0.6.0,>=0.4.6 in /usr/local/lib/python3.10/dist-packages (from pyasn1-modules>=0.2.1->google-auth<3,>=1.6.3->tensorboard<2.16,>=2.15->tensorflow) (0.5.1)\n",
            "Requirement already satisfied: oauthlib>=3.0.0 in /usr/local/lib/python3.10/dist-packages (from requests-oauthlib>=0.7.0->google-auth-oauthlib<2,>=0.5->tensorboard<2.16,>=2.15->tensorflow) (3.2.2)\n"
          ]
        }
      ],
      "source": [
        "!pip install tensorflow"
      ]
    },
    {
      "cell_type": "code",
      "execution_count": 32,
      "id": "c5f45603",
      "metadata": {
        "colab": {
          "base_uri": "https://localhost:8080/"
        },
        "id": "c5f45603",
        "outputId": "14263eec-a20c-4a28-e8e2-e3e02a655fff"
      },
      "outputs": [
        {
          "output_type": "stream",
          "name": "stdout",
          "text": [
            "Requirement already satisfied: keras in /usr/local/lib/python3.10/dist-packages (2.15.0)\n"
          ]
        }
      ],
      "source": [
        "!pip install keras"
      ]
    },
    {
      "cell_type": "code",
      "execution_count": 33,
      "id": "a3ec66d3",
      "metadata": {
        "id": "a3ec66d3"
      },
      "outputs": [],
      "source": [
        "from tensorflow.keras.datasets import imdb\n",
        "(train_data, train_labels), (test_data, test_labels) = imdb.load_data(\n",
        "    num_words=10000)"
      ]
    },
    {
      "cell_type": "code",
      "execution_count": 34,
      "id": "03ee7710",
      "metadata": {
        "colab": {
          "base_uri": "https://localhost:8080/"
        },
        "id": "03ee7710",
        "outputId": "127b9694-2d04-4be7-b062-b6e57f717eef"
      },
      "outputs": [
        {
          "output_type": "execute_result",
          "data": {
            "text/plain": [
              "[1,\n",
              " 14,\n",
              " 22,\n",
              " 16,\n",
              " 43,\n",
              " 530,\n",
              " 973,\n",
              " 1622,\n",
              " 1385,\n",
              " 65,\n",
              " 458,\n",
              " 4468,\n",
              " 66,\n",
              " 3941,\n",
              " 4,\n",
              " 173,\n",
              " 36,\n",
              " 256,\n",
              " 5,\n",
              " 25,\n",
              " 100,\n",
              " 43,\n",
              " 838,\n",
              " 112,\n",
              " 50,\n",
              " 670,\n",
              " 2,\n",
              " 9,\n",
              " 35,\n",
              " 480,\n",
              " 284,\n",
              " 5,\n",
              " 150,\n",
              " 4,\n",
              " 172,\n",
              " 112,\n",
              " 167,\n",
              " 2,\n",
              " 336,\n",
              " 385,\n",
              " 39,\n",
              " 4,\n",
              " 172,\n",
              " 4536,\n",
              " 1111,\n",
              " 17,\n",
              " 546,\n",
              " 38,\n",
              " 13,\n",
              " 447,\n",
              " 4,\n",
              " 192,\n",
              " 50,\n",
              " 16,\n",
              " 6,\n",
              " 147,\n",
              " 2025,\n",
              " 19,\n",
              " 14,\n",
              " 22,\n",
              " 4,\n",
              " 1920,\n",
              " 4613,\n",
              " 469,\n",
              " 4,\n",
              " 22,\n",
              " 71,\n",
              " 87,\n",
              " 12,\n",
              " 16,\n",
              " 43,\n",
              " 530,\n",
              " 38,\n",
              " 76,\n",
              " 15,\n",
              " 13,\n",
              " 1247,\n",
              " 4,\n",
              " 22,\n",
              " 17,\n",
              " 515,\n",
              " 17,\n",
              " 12,\n",
              " 16,\n",
              " 626,\n",
              " 18,\n",
              " 2,\n",
              " 5,\n",
              " 62,\n",
              " 386,\n",
              " 12,\n",
              " 8,\n",
              " 316,\n",
              " 8,\n",
              " 106,\n",
              " 5,\n",
              " 4,\n",
              " 2223,\n",
              " 5244,\n",
              " 16,\n",
              " 480,\n",
              " 66,\n",
              " 3785,\n",
              " 33,\n",
              " 4,\n",
              " 130,\n",
              " 12,\n",
              " 16,\n",
              " 38,\n",
              " 619,\n",
              " 5,\n",
              " 25,\n",
              " 124,\n",
              " 51,\n",
              " 36,\n",
              " 135,\n",
              " 48,\n",
              " 25,\n",
              " 1415,\n",
              " 33,\n",
              " 6,\n",
              " 22,\n",
              " 12,\n",
              " 215,\n",
              " 28,\n",
              " 77,\n",
              " 52,\n",
              " 5,\n",
              " 14,\n",
              " 407,\n",
              " 16,\n",
              " 82,\n",
              " 2,\n",
              " 8,\n",
              " 4,\n",
              " 107,\n",
              " 117,\n",
              " 5952,\n",
              " 15,\n",
              " 256,\n",
              " 4,\n",
              " 2,\n",
              " 7,\n",
              " 3766,\n",
              " 5,\n",
              " 723,\n",
              " 36,\n",
              " 71,\n",
              " 43,\n",
              " 530,\n",
              " 476,\n",
              " 26,\n",
              " 400,\n",
              " 317,\n",
              " 46,\n",
              " 7,\n",
              " 4,\n",
              " 2,\n",
              " 1029,\n",
              " 13,\n",
              " 104,\n",
              " 88,\n",
              " 4,\n",
              " 381,\n",
              " 15,\n",
              " 297,\n",
              " 98,\n",
              " 32,\n",
              " 2071,\n",
              " 56,\n",
              " 26,\n",
              " 141,\n",
              " 6,\n",
              " 194,\n",
              " 7486,\n",
              " 18,\n",
              " 4,\n",
              " 226,\n",
              " 22,\n",
              " 21,\n",
              " 134,\n",
              " 476,\n",
              " 26,\n",
              " 480,\n",
              " 5,\n",
              " 144,\n",
              " 30,\n",
              " 5535,\n",
              " 18,\n",
              " 51,\n",
              " 36,\n",
              " 28,\n",
              " 224,\n",
              " 92,\n",
              " 25,\n",
              " 104,\n",
              " 4,\n",
              " 226,\n",
              " 65,\n",
              " 16,\n",
              " 38,\n",
              " 1334,\n",
              " 88,\n",
              " 12,\n",
              " 16,\n",
              " 283,\n",
              " 5,\n",
              " 16,\n",
              " 4472,\n",
              " 113,\n",
              " 103,\n",
              " 32,\n",
              " 15,\n",
              " 16,\n",
              " 5345,\n",
              " 19,\n",
              " 178,\n",
              " 32]"
            ]
          },
          "metadata": {},
          "execution_count": 34
        }
      ],
      "source": [
        "train_data[0]"
      ]
    },
    {
      "cell_type": "code",
      "execution_count": 35,
      "id": "347903fc",
      "metadata": {
        "colab": {
          "base_uri": "https://localhost:8080/"
        },
        "id": "347903fc",
        "outputId": "52173a27-b674-4fe4-f2cc-264825f9c1e3"
      },
      "outputs": [
        {
          "output_type": "execute_result",
          "data": {
            "text/plain": [
              "1"
            ]
          },
          "metadata": {},
          "execution_count": 35
        }
      ],
      "source": [
        "train_labels[0]"
      ]
    },
    {
      "cell_type": "code",
      "execution_count": 36,
      "id": "311e26d7",
      "metadata": {
        "colab": {
          "base_uri": "https://localhost:8080/"
        },
        "id": "311e26d7",
        "outputId": "df3f3d57-86ce-4fde-8669-cab00ade3625"
      },
      "outputs": [
        {
          "output_type": "execute_result",
          "data": {
            "text/plain": [
              "9999"
            ]
          },
          "metadata": {},
          "execution_count": 36
        }
      ],
      "source": [
        "max([max(sequence) for sequence in train_data])"
      ]
    },
    {
      "cell_type": "code",
      "execution_count": 37,
      "id": "0d575a97",
      "metadata": {
        "id": "0d575a97"
      },
      "outputs": [],
      "source": [
        "word_index = imdb.get_word_index()\n",
        "reverse_word_index = dict(\n",
        "    [(value, key) for (key, value) in word_index.items()])\n",
        "decoded_review = \" \".join(\n",
        "    [reverse_word_index.get(i - 3, \"?\") for i in train_data[0]])"
      ]
    },
    {
      "cell_type": "code",
      "execution_count": 38,
      "id": "58730458",
      "metadata": {
        "id": "58730458"
      },
      "outputs": [],
      "source": [
        "import numpy as np\n",
        "def vectorize_sequences(sequences, dimension=10000):\n",
        "    results = np.zeros((len(sequences), dimension))\n",
        "    for i, sequence in enumerate(sequences):\n",
        "        for j in sequence:\n",
        "            results[i, j] = 1.\n",
        "    return results\n",
        "x_train = vectorize_sequences(train_data)\n",
        "x_test = vectorize_sequences(test_data)"
      ]
    },
    {
      "cell_type": "code",
      "execution_count": 39,
      "id": "4c06c1a0",
      "metadata": {
        "colab": {
          "base_uri": "https://localhost:8080/"
        },
        "id": "4c06c1a0",
        "outputId": "eb5341b6-ced5-4d4d-d954-64f838ce9fbc"
      },
      "outputs": [
        {
          "output_type": "execute_result",
          "data": {
            "text/plain": [
              "array([0., 1., 1., ..., 0., 0., 0.])"
            ]
          },
          "metadata": {},
          "execution_count": 39
        }
      ],
      "source": [
        "x_train[0]"
      ]
    },
    {
      "cell_type": "code",
      "execution_count": 40,
      "id": "e6e61cc1",
      "metadata": {
        "id": "e6e61cc1"
      },
      "outputs": [],
      "source": [
        "y_train = np.asarray(train_labels).astype(\"float32\")\n",
        "y_test = np.asarray(test_labels).astype(\"float32\")"
      ]
    },
    {
      "cell_type": "code",
      "execution_count": 41,
      "id": "ef68dc57",
      "metadata": {
        "id": "ef68dc57"
      },
      "outputs": [],
      "source": [
        "x_val = x_train[:10000]\n",
        "partial_x_train = x_train[10000:]\n",
        "y_val = y_train[:10000]\n",
        "partial_y_train = y_train[10000:]"
      ]
    },
    {
      "cell_type": "markdown",
      "id": "362e7d93",
      "metadata": {
        "id": "362e7d93"
      },
      "source": [
        "#### Step 1 :\n",
        "\n",
        "1. Sequential Three layered approach  \n",
        "2. Replaced relu with tanh\n",
        "3. optimizers changed to adam and loss to mse and metrics == accuracy"
      ]
    },
    {
      "cell_type": "code",
      "execution_count": 42,
      "id": "193b36da",
      "metadata": {
        "id": "193b36da"
      },
      "outputs": [],
      "source": [
        "from tensorflow import keras\n",
        "from tensorflow.keras import layers\n",
        "from tensorflow.keras.layers import Dense\n",
        "\n",
        "model = keras.Sequential()\n",
        "model.add(Dense(16, activation=\"tanh\"))\n",
        "model.add(Dense(16, activation=\"tanh\"))\n",
        "model.add(Dense(1, activation=\"sigmoid\"))\n",
        "\n",
        "\n",
        "model.compile(optimizer=\"adam\",\n",
        "              loss=\"mean_squared_error\",\n",
        "              metrics=[\"accuracy\"])"
      ]
    },
    {
      "cell_type": "code",
      "execution_count": 43,
      "id": "f921c90b",
      "metadata": {
        "colab": {
          "base_uri": "https://localhost:8080/"
        },
        "id": "f921c90b",
        "outputId": "ef7600ad-a873-47e9-cfb9-5368280e05e7"
      },
      "outputs": [
        {
          "output_type": "stream",
          "name": "stdout",
          "text": [
            "Epoch 1/20\n",
            "30/30 [==============================] - 7s 113ms/step - loss: 0.1818 - accuracy: 0.7774 - val_loss: 0.1267 - val_accuracy: 0.8576\n",
            "Epoch 2/20\n",
            "30/30 [==============================] - 1s 36ms/step - loss: 0.0905 - accuracy: 0.9013 - val_loss: 0.0922 - val_accuracy: 0.8826\n",
            "Epoch 3/20\n",
            "30/30 [==============================] - 1s 35ms/step - loss: 0.0590 - accuracy: 0.9363 - val_loss: 0.0846 - val_accuracy: 0.8889\n",
            "Epoch 4/20\n",
            "30/30 [==============================] - 1s 35ms/step - loss: 0.0418 - accuracy: 0.9581 - val_loss: 0.0825 - val_accuracy: 0.8881\n",
            "Epoch 5/20\n",
            "30/30 [==============================] - 1s 32ms/step - loss: 0.0308 - accuracy: 0.9725 - val_loss: 0.0846 - val_accuracy: 0.8848\n",
            "Epoch 6/20\n",
            "30/30 [==============================] - 1s 35ms/step - loss: 0.0231 - accuracy: 0.9817 - val_loss: 0.0869 - val_accuracy: 0.8824\n",
            "Epoch 7/20\n",
            "30/30 [==============================] - 1s 47ms/step - loss: 0.0177 - accuracy: 0.9872 - val_loss: 0.0899 - val_accuracy: 0.8779\n",
            "Epoch 8/20\n",
            "30/30 [==============================] - 2s 51ms/step - loss: 0.0138 - accuracy: 0.9906 - val_loss: 0.0919 - val_accuracy: 0.8795\n",
            "Epoch 9/20\n",
            "30/30 [==============================] - 1s 37ms/step - loss: 0.0112 - accuracy: 0.9921 - val_loss: 0.0945 - val_accuracy: 0.8755\n",
            "Epoch 10/20\n",
            "30/30 [==============================] - 1s 33ms/step - loss: 0.0093 - accuracy: 0.9930 - val_loss: 0.0971 - val_accuracy: 0.8742\n",
            "Epoch 11/20\n",
            "30/30 [==============================] - 1s 33ms/step - loss: 0.0079 - accuracy: 0.9941 - val_loss: 0.0986 - val_accuracy: 0.8735\n",
            "Epoch 12/20\n",
            "30/30 [==============================] - 1s 37ms/step - loss: 0.0069 - accuracy: 0.9951 - val_loss: 0.1005 - val_accuracy: 0.8724\n",
            "Epoch 13/20\n",
            "30/30 [==============================] - 1s 38ms/step - loss: 0.0061 - accuracy: 0.9954 - val_loss: 0.1013 - val_accuracy: 0.8730\n",
            "Epoch 14/20\n",
            "30/30 [==============================] - 1s 32ms/step - loss: 0.0056 - accuracy: 0.9955 - val_loss: 0.1022 - val_accuracy: 0.8721\n",
            "Epoch 15/20\n",
            "30/30 [==============================] - 1s 30ms/step - loss: 0.0052 - accuracy: 0.9957 - val_loss: 0.1031 - val_accuracy: 0.8720\n",
            "Epoch 16/20\n",
            "30/30 [==============================] - 1s 33ms/step - loss: 0.0049 - accuracy: 0.9959 - val_loss: 0.1040 - val_accuracy: 0.8723\n",
            "Epoch 17/20\n",
            "30/30 [==============================] - 1s 32ms/step - loss: 0.0046 - accuracy: 0.9960 - val_loss: 0.1046 - val_accuracy: 0.8713\n",
            "Epoch 18/20\n",
            "30/30 [==============================] - 1s 33ms/step - loss: 0.0044 - accuracy: 0.9962 - val_loss: 0.1056 - val_accuracy: 0.8705\n",
            "Epoch 19/20\n",
            "30/30 [==============================] - 2s 51ms/step - loss: 0.0043 - accuracy: 0.9962 - val_loss: 0.1061 - val_accuracy: 0.8712\n",
            "Epoch 20/20\n",
            "30/30 [==============================] - 1s 49ms/step - loss: 0.0041 - accuracy: 0.9963 - val_loss: 0.1065 - val_accuracy: 0.8713\n"
          ]
        }
      ],
      "source": [
        "history = model.fit(partial_x_train,\n",
        "                    partial_y_train,\n",
        "                    epochs=20,\n",
        "                    batch_size=512,\n",
        "                    validation_data=(x_val, y_val))"
      ]
    },
    {
      "cell_type": "code",
      "execution_count": 44,
      "id": "3ee87641",
      "metadata": {
        "colab": {
          "base_uri": "https://localhost:8080/"
        },
        "id": "3ee87641",
        "outputId": "4fce6684-5eb7-4b25-eac8-839a404bc919"
      },
      "outputs": [
        {
          "output_type": "stream",
          "name": "stdout",
          "text": [
            "Epoch 1/30\n",
            "30/30 [==============================] - 4s 101ms/step - loss: 0.1621 - accuracy: 0.7662 - val_loss: 0.0958 - val_accuracy: 0.8729\n",
            "Epoch 2/30\n",
            "30/30 [==============================] - 2s 67ms/step - loss: 0.0755 - accuracy: 0.9046 - val_loss: 0.0885 - val_accuracy: 0.8869\n",
            "Epoch 3/30\n",
            "30/30 [==============================] - 2s 61ms/step - loss: 0.0530 - accuracy: 0.9391 - val_loss: 0.0932 - val_accuracy: 0.8832\n",
            "Epoch 4/30\n",
            "30/30 [==============================] - 3s 108ms/step - loss: 0.0415 - accuracy: 0.9545 - val_loss: 0.0975 - val_accuracy: 0.8818\n",
            "Epoch 5/30\n",
            "30/30 [==============================] - 2s 70ms/step - loss: 0.0369 - accuracy: 0.9610 - val_loss: 0.1043 - val_accuracy: 0.8772\n",
            "Epoch 6/30\n",
            "30/30 [==============================] - 2s 66ms/step - loss: 0.0319 - accuracy: 0.9675 - val_loss: 0.1069 - val_accuracy: 0.8762\n",
            "Epoch 7/30\n",
            "30/30 [==============================] - 2s 66ms/step - loss: 0.0291 - accuracy: 0.9718 - val_loss: 0.1169 - val_accuracy: 0.8669\n",
            "Epoch 8/30\n",
            "30/30 [==============================] - 2s 68ms/step - loss: 0.0280 - accuracy: 0.9717 - val_loss: 0.1137 - val_accuracy: 0.8727\n",
            "Epoch 9/30\n",
            "30/30 [==============================] - 2s 65ms/step - loss: 0.0252 - accuracy: 0.9756 - val_loss: 0.1155 - val_accuracy: 0.8725\n",
            "Epoch 10/30\n",
            "30/30 [==============================] - 3s 96ms/step - loss: 0.0227 - accuracy: 0.9795 - val_loss: 0.1168 - val_accuracy: 0.8732\n",
            "Epoch 11/30\n",
            "30/30 [==============================] - 2s 62ms/step - loss: 0.0206 - accuracy: 0.9827 - val_loss: 0.1170 - val_accuracy: 0.8735\n",
            "Epoch 12/30\n",
            "30/30 [==============================] - 2s 61ms/step - loss: 0.0197 - accuracy: 0.9841 - val_loss: 0.1216 - val_accuracy: 0.8666\n",
            "Epoch 13/30\n",
            "30/30 [==============================] - 2s 61ms/step - loss: 0.0197 - accuracy: 0.9830 - val_loss: 0.1209 - val_accuracy: 0.8719\n",
            "Epoch 14/30\n",
            "30/30 [==============================] - 2s 66ms/step - loss: 0.0186 - accuracy: 0.9849 - val_loss: 0.1228 - val_accuracy: 0.8693\n",
            "Epoch 15/30\n",
            "30/30 [==============================] - 2s 68ms/step - loss: 0.0180 - accuracy: 0.9853 - val_loss: 0.1243 - val_accuracy: 0.8675\n",
            "Epoch 16/30\n",
            "30/30 [==============================] - 3s 90ms/step - loss: 0.0183 - accuracy: 0.9855 - val_loss: 0.1256 - val_accuracy: 0.8671\n",
            "Epoch 17/30\n",
            "30/30 [==============================] - 2s 65ms/step - loss: 0.0179 - accuracy: 0.9852 - val_loss: 0.1284 - val_accuracy: 0.8630\n",
            "Epoch 18/30\n",
            "30/30 [==============================] - 2s 63ms/step - loss: 0.0186 - accuracy: 0.9845 - val_loss: 0.1264 - val_accuracy: 0.8656\n",
            "Epoch 19/30\n",
            "30/30 [==============================] - 2s 63ms/step - loss: 0.0179 - accuracy: 0.9852 - val_loss: 0.1261 - val_accuracy: 0.8675\n",
            "Epoch 20/30\n",
            "30/30 [==============================] - 2s 67ms/step - loss: 0.0191 - accuracy: 0.9839 - val_loss: 0.1266 - val_accuracy: 0.8663\n",
            "Epoch 21/30\n",
            "30/30 [==============================] - 2s 68ms/step - loss: 0.0189 - accuracy: 0.9841 - val_loss: 0.1310 - val_accuracy: 0.8628\n",
            "Epoch 22/30\n",
            "30/30 [==============================] - 3s 105ms/step - loss: 0.0177 - accuracy: 0.9854 - val_loss: 0.1269 - val_accuracy: 0.8671\n",
            "Epoch 23/30\n",
            "30/30 [==============================] - 2s 65ms/step - loss: 0.0170 - accuracy: 0.9866 - val_loss: 0.1268 - val_accuracy: 0.8675\n",
            "Epoch 24/30\n",
            "30/30 [==============================] - 2s 59ms/step - loss: 0.0179 - accuracy: 0.9855 - val_loss: 0.1283 - val_accuracy: 0.8662\n",
            "Epoch 25/30\n",
            "30/30 [==============================] - 2s 67ms/step - loss: 0.0169 - accuracy: 0.9867 - val_loss: 0.1287 - val_accuracy: 0.8667\n",
            "Epoch 26/30\n",
            "30/30 [==============================] - 2s 62ms/step - loss: 0.0169 - accuracy: 0.9871 - val_loss: 0.1283 - val_accuracy: 0.8670\n",
            "Epoch 27/30\n",
            "30/30 [==============================] - 2s 63ms/step - loss: 0.0157 - accuracy: 0.9881 - val_loss: 0.1292 - val_accuracy: 0.8671\n",
            "Epoch 28/30\n",
            "30/30 [==============================] - 3s 114ms/step - loss: 0.0161 - accuracy: 0.9878 - val_loss: 0.1282 - val_accuracy: 0.8662\n",
            "Epoch 29/30\n",
            "30/30 [==============================] - 2s 68ms/step - loss: 0.0157 - accuracy: 0.9887 - val_loss: 0.1284 - val_accuracy: 0.8665\n",
            "Epoch 30/30\n",
            "30/30 [==============================] - 2s 61ms/step - loss: 0.0149 - accuracy: 0.9893 - val_loss: 0.1275 - val_accuracy: 0.8674\n"
          ]
        }
      ],
      "source": [
        "# Step 2\n",
        "\n",
        "### implement dropouts and Regularizers\n",
        "### check performance by changing the dense layers to 64 hidden units\n",
        "\n",
        "from tensorflow.keras.layers import Dropout\n",
        "from tensorflow.keras import regularizers\n",
        "\n",
        "\n",
        "model = keras.Sequential()\n",
        "model.add(Dense(64, activation=\"tanh\"))\n",
        "model.add(Dropout(0.5))\n",
        "model.add(Dense(64, activation=\"tanh\"))\n",
        "model.add(Dropout(0.5))\n",
        "model.add(Dense(64, activation=\"tanh\"))\n",
        "model.add(Dense(1, activation=\"sigmoid\",activity_regularizer=regularizers.L2(0.01)))\n",
        "\n",
        "\n",
        "model.compile(optimizer=\"adam\",\n",
        "              loss=\"mean_squared_error\",\n",
        "              metrics=[\"accuracy\"])\n",
        "\n",
        "history = model.fit(partial_x_train,\n",
        "                    partial_y_train,\n",
        "                    epochs=30,\n",
        "                    batch_size=512,\n",
        "                    validation_data=(x_val, y_val))"
      ]
    },
    {
      "cell_type": "code",
      "execution_count": 45,
      "id": "b37ddd1b",
      "metadata": {
        "colab": {
          "base_uri": "https://localhost:8080/"
        },
        "id": "b37ddd1b",
        "outputId": "92fccd19-ca43-4cfe-d632-9f53fae25894"
      },
      "outputs": [
        {
          "output_type": "execute_result",
          "data": {
            "text/plain": [
              "dict_keys(['loss', 'accuracy', 'val_loss', 'val_accuracy'])"
            ]
          },
          "metadata": {},
          "execution_count": 45
        }
      ],
      "source": [
        "history_dict = history.history\n",
        "history_dict.keys()"
      ]
    },
    {
      "cell_type": "code",
      "execution_count": 46,
      "id": "fa1c236b",
      "metadata": {
        "colab": {
          "base_uri": "https://localhost:8080/",
          "height": 472
        },
        "id": "fa1c236b",
        "outputId": "b0eb8a6d-e566-4c41-8bf3-326d2c98ec67"
      },
      "outputs": [
        {
          "output_type": "display_data",
          "data": {
            "text/plain": [
              "<Figure size 640x480 with 1 Axes>"
            ],
            "image/png": "[encoded data removed]"
          },
          "metadata": {}
        }
      ],
      "source": [
        "import matplotlib.pyplot as plt\n",
        "history_dict = history.history\n",
        "loss_values = history_dict[\"loss\"]\n",
        "val_loss_values = history_dict[\"val_loss\"]\n",
        "epochs = range(1, len(loss_values) + 1)\n",
        "plt.plot(epochs, loss_values, \"bo\", label=\"Training loss\")\n",
        "plt.plot(epochs, val_loss_values, \"b\", label=\"Validation loss\")\n",
        "plt.title(\"Training and validation loss\")\n",
        "plt.xlabel(\"Epochs\")\n",
        "plt.ylabel(\"Loss\")\n",
        "plt.legend()\n",
        "plt.show()"
      ]
    },
    {
      "cell_type": "code",
      "execution_count": 47,
      "id": "0752c06c",
      "metadata": {
        "colab": {
          "base_uri": "https://localhost:8080/",
          "height": 472
        },
        "id": "0752c06c",
        "outputId": "254addde-53c0-46b8-e468-047261daf0b7"
      },
      "outputs": [
        {
          "output_type": "display_data",
          "data": {
            "text/plain": [
              "<Figure size 640x480 with 1 Axes>"
            ],
            "image/png": "[encoded data removed]"
          },
          "metadata": {}
        }
      ],
      "source": [
        "plt.clf()\n",
        "acc = history_dict[\"accuracy\"]\n",
        "val_acc = history_dict[\"val_accuracy\"]\n",
        "plt.plot(epochs, acc, \"bo\", label=\"Training acc\")\n",
        "plt.plot(epochs, val_acc, \"b\", label=\"Validation acc\")\n",
        "plt.title(\"Training and validation accuracy\")\n",
        "plt.xlabel(\"Epochs\")\n",
        "plt.ylabel(\"Accuracy\")\n",
        "plt.legend()\n",
        "plt.show()"
      ]
    },
    {
      "cell_type": "code",
      "source": [
        "import matplotlib.pyplot as plt\n",
        "\n",
        "plt.clf()\n",
        "acc = history_dict[\"accuracy\"]\n",
        "val_acc = history_dict[\"val_accuracy\"]\n",
        "plt.plot(epochs, acc, \"bo\", label=\"Training acc\")\n",
        "plt.plot(epochs, val_acc, \"b\", label=\"Validation acc\")\n",
        "plt.title(\"Training and validation accuracy\")\n",
        "plt.xlabel(\"Epochs\")\n",
        "plt.ylabel(\"Accuracy\")\n",
        "plt.legend()\n",
        "plt.show()"
      ],
      "metadata": {
        "colab": {
          "base_uri": "https://localhost:8080/",
          "height": 472
        },
        "id": "TOTgSCng8Cap",
        "outputId": "22153905-e865-4492-eb96-2310be25362d"
      },
      "id": "TOTgSCng8Cap",
      "execution_count": 48,
      "outputs": [
        {
          "output_type": "display_data",
          "data": {
            "text/plain": [
              "<Figure size 640x480 with 1 Axes>"
            ],
            "image/png": "[encoded data removed]"
          },
          "metadata": {}
        }
      ]
    },
    {
      "cell_type": "code",
      "execution_count": 49,
      "id": "ac0382d2",
      "metadata": {
        "colab": {
          "base_uri": "https://localhost:8080/"
        },
        "id": "ac0382d2",
        "outputId": "351bbaa7-7a2c-4769-f294-4cbae3ae7aaa"
      },
      "outputs": [
        {
          "output_type": "stream",
          "name": "stdout",
          "text": [
            "Epoch 1/30\n",
            "30/30 [==============================] - 5s 115ms/step - loss: 0.1748 - accuracy: 0.7837 - val_loss: 0.1062 - val_accuracy: 0.8804\n",
            "Epoch 2/30\n",
            "30/30 [==============================] - 2s 75ms/step - loss: 0.0881 - accuracy: 0.9106 - val_loss: 0.0965 - val_accuracy: 0.8804\n",
            "Epoch 3/30\n",
            "30/30 [==============================] - 2s 64ms/step - loss: 0.0615 - accuracy: 0.9391 - val_loss: 0.0994 - val_accuracy: 0.8791\n",
            "Epoch 4/30\n",
            "30/30 [==============================] - 2s 64ms/step - loss: 0.0504 - accuracy: 0.9485 - val_loss: 0.1024 - val_accuracy: 0.8769\n",
            "Epoch 5/30\n",
            "30/30 [==============================] - 2s 69ms/step - loss: 0.0413 - accuracy: 0.9596 - val_loss: 0.1036 - val_accuracy: 0.8744\n",
            "Epoch 6/30\n",
            "30/30 [==============================] - 2s 65ms/step - loss: 0.0351 - accuracy: 0.9651 - val_loss: 0.1057 - val_accuracy: 0.8748\n",
            "Epoch 7/30\n",
            "30/30 [==============================] - 3s 117ms/step - loss: 0.0304 - accuracy: 0.9706 - val_loss: 0.1092 - val_accuracy: 0.8721\n",
            "Epoch 8/30\n",
            "30/30 [==============================] - 2s 69ms/step - loss: 0.0283 - accuracy: 0.9707 - val_loss: 0.1127 - val_accuracy: 0.8700\n",
            "Epoch 9/30\n",
            "30/30 [==============================] - 2s 69ms/step - loss: 0.0261 - accuracy: 0.9747 - val_loss: 0.1171 - val_accuracy: 0.8678\n",
            "Epoch 10/30\n",
            "30/30 [==============================] - 2s 64ms/step - loss: 0.0236 - accuracy: 0.9770 - val_loss: 0.1175 - val_accuracy: 0.8690\n",
            "Epoch 11/30\n",
            "30/30 [==============================] - 2s 69ms/step - loss: 0.0228 - accuracy: 0.9777 - val_loss: 0.1199 - val_accuracy: 0.8666\n",
            "Epoch 12/30\n",
            "30/30 [==============================] - 3s 91ms/step - loss: 0.0209 - accuracy: 0.9797 - val_loss: 0.1195 - val_accuracy: 0.8669\n",
            "Epoch 13/30\n",
            "30/30 [==============================] - 2s 73ms/step - loss: 0.0205 - accuracy: 0.9801 - val_loss: 0.1211 - val_accuracy: 0.8676\n",
            "Epoch 14/30\n",
            "30/30 [==============================] - 2s 70ms/step - loss: 0.0212 - accuracy: 0.9789 - val_loss: 0.1236 - val_accuracy: 0.8682\n",
            "Epoch 15/30\n",
            "30/30 [==============================] - 2s 70ms/step - loss: 0.0199 - accuracy: 0.9806 - val_loss: 0.1222 - val_accuracy: 0.8671\n",
            "Epoch 16/30\n",
            "30/30 [==============================] - 2s 66ms/step - loss: 0.0188 - accuracy: 0.9816 - val_loss: 0.1235 - val_accuracy: 0.8649\n",
            "Epoch 17/30\n",
            "30/30 [==============================] - 2s 69ms/step - loss: 0.0164 - accuracy: 0.9845 - val_loss: 0.1254 - val_accuracy: 0.8639\n",
            "Epoch 18/30\n",
            "30/30 [==============================] - 3s 114ms/step - loss: 0.0187 - accuracy: 0.9811 - val_loss: 0.1268 - val_accuracy: 0.8615\n",
            "Epoch 19/30\n",
            "30/30 [==============================] - 2s 70ms/step - loss: 0.0176 - accuracy: 0.9824 - val_loss: 0.1271 - val_accuracy: 0.8637\n",
            "Epoch 20/30\n",
            "30/30 [==============================] - 2s 69ms/step - loss: 0.0164 - accuracy: 0.9839 - val_loss: 0.1237 - val_accuracy: 0.8671\n",
            "Epoch 21/30\n",
            "30/30 [==============================] - 2s 69ms/step - loss: 0.0161 - accuracy: 0.9845 - val_loss: 0.1272 - val_accuracy: 0.8634\n",
            "Epoch 22/30\n",
            "30/30 [==============================] - 2s 70ms/step - loss: 0.0164 - accuracy: 0.9839 - val_loss: 0.1245 - val_accuracy: 0.8664\n",
            "Epoch 23/30\n",
            "30/30 [==============================] - 3s 93ms/step - loss: 0.0145 - accuracy: 0.9863 - val_loss: 0.1256 - val_accuracy: 0.8658\n",
            "Epoch 24/30\n",
            "30/30 [==============================] - 2s 79ms/step - loss: 0.0150 - accuracy: 0.9853 - val_loss: 0.1312 - val_accuracy: 0.8608\n",
            "Epoch 25/30\n",
            "30/30 [==============================] - 2s 67ms/step - loss: 0.0168 - accuracy: 0.9834 - val_loss: 0.1282 - val_accuracy: 0.8640\n",
            "Epoch 26/30\n",
            "30/30 [==============================] - 2s 65ms/step - loss: 0.0154 - accuracy: 0.9847 - val_loss: 0.1285 - val_accuracy: 0.8620\n",
            "Epoch 27/30\n",
            "30/30 [==============================] - 2s 70ms/step - loss: 0.0152 - accuracy: 0.9845 - val_loss: 0.1286 - val_accuracy: 0.8620\n",
            "Epoch 28/30\n",
            "30/30 [==============================] - 2s 63ms/step - loss: 0.0142 - accuracy: 0.9863 - val_loss: 0.1285 - val_accuracy: 0.8655\n",
            "Epoch 29/30\n",
            "30/30 [==============================] - 3s 114ms/step - loss: 0.0150 - accuracy: 0.9857 - val_loss: 0.1278 - val_accuracy: 0.8648\n",
            "Epoch 30/30\n",
            "30/30 [==============================] - 2s 60ms/step - loss: 0.0145 - accuracy: 0.9863 - val_loss: 0.1330 - val_accuracy: 0.8608\n"
          ]
        }
      ],
      "source": [
        "from tensorflow.keras.layers import Dropout\n",
        "from tensorflow.keras import regularizers\n",
        "\n",
        "\n",
        "model = keras.Sequential()\n",
        "model.add(Dense(64, activation=\"tanh\"))\n",
        "model.add(Dropout(0.5))\n",
        "model.add(Dense(64, activation=\"tanh\"))\n",
        "model.add(Dense(64, activation=\"tanh\"))\n",
        "model.add(Dense(64, activation=\"tanh\",activity_regularizer=regularizers.L2(0.01)))\n",
        "model.add(Dropout(0.5))\n",
        "model.add(Dense(64, activation=\"tanh\"))\n",
        "model.add(Dense(64, activation=\"tanh\"))\n",
        "model.add(Dense(1, activation=\"sigmoid\"))\n",
        "\n",
        "\n",
        "model.compile(optimizer=\"adam\",\n",
        "              loss=\"mean_squared_error\",\n",
        "              metrics=[\"accuracy\"])\n",
        "\n",
        "history = model.fit(partial_x_train,\n",
        "                    partial_y_train,\n",
        "                    epochs=30,\n",
        "                    batch_size=512,\n",
        "                    validation_data=(x_val, y_val))"
      ]
    },
    {
      "cell_type": "code",
      "execution_count": 50,
      "id": "9c4a54bf",
      "metadata": {
        "colab": {
          "base_uri": "https://localhost:8080/",
          "height": 472
        },
        "id": "9c4a54bf",
        "outputId": "1db14d83-597a-4bf2-9ce8-3078d41a4577"
      },
      "outputs": [
        {
          "output_type": "display_data",
          "data": {
            "text/plain": [
              "<Figure size 640x480 with 1 Axes>"
            ],
            "image/png": "[encoded data removed]"
          },
          "metadata": {}
        }
      ],
      "source": [
        "plt.clf()\n",
        "acc = history_dict[\"accuracy\"]\n",
        "val_acc = history_dict[\"val_accuracy\"]\n",
        "plt.plot(epochs, acc, \"bo\", label=\"Training acc\")\n",
        "plt.plot(epochs, val_acc, \"b\", label=\"Validation acc\")\n",
        "plt.title(\"Training and validation accuracy\")\n",
        "plt.xlabel(\"Epochs\")\n",
        "plt.ylabel(\"Accuracy\")\n",
        "plt.legend()\n",
        "plt.show()"
      ]
    },
    {
      "cell_type": "markdown",
      "id": "c63b90f2",
      "metadata": {
        "id": "c63b90f2"
      },
      "source": [
        "![result.png](attachment:result.png)"
      ]
    },
    {
      "cell_type": "markdown",
      "source": [
        "# Summary"
      ],
      "metadata": {
        "id": "C_IzOUZW-_4u"
      },
      "id": "C_IzOUZW-_4u"
    },
    {
      "cell_type": "markdown",
      "source": [
        "My approach to tackling the problem involved initially understanding the significance of the Keras Sequential model, which serves as a stack of layers for constructing neural networks. This entailed importing essential modules such as layers, Dense, Dropout, and Regularizers from TensorFlow.keras.\n",
        "\n",
        "I experimented with building neural networks containing 2, 3, and 6 layers, each with different numbers of hidden neurons (16, 64, and 64 respectively) to assess performance. An important observation was that regardless of the number of layers stacked, the performance plateaued once a certain threshold was reached.\n",
        "\n",
        "Initializing the Sequential model with model = keras.Sequential() sets up the structure comprising input, hidden, and output layers. Adding a hidden layer with 64 dense units and using the tanh activation function (model.add(Dense(64, activation=\"tanh\")) means creating 64 neurons in the layer to learn vector data.\n",
        "\n",
        "The Dropout layer (model.add(Dropout(0.5))) plays a crucial role in combating overfitting by randomly dropping out neurons. Specifying 0.5 implies dropping out 50% of the neurons.\n",
        "\n",
        "Although I experimented with L1 and L2 regularizers, they didn't significantly improve performance and may have even diminished it, suggesting the model may have reached saturation. The best validation accuracy achieved was around 86-87%.\n",
        "\n",
        "Replacing binary_crossentropy with mean squared error (MSE) for loss evaluation resulted in better performance metrics, with MSE yielding a lower validation loss compared to binary_crossentropy.\n",
        "\n",
        "ReLU emerged as the preferred activation function over sigmoid and tanh due to its mitigation of the vanishing gradient problem. However, in this context, tanh performed similarly to ReLU.\n",
        "\n",
        "\n"
      ],
      "metadata": {
        "id": "Vq3p80GWCYIi"
      },
      "id": "Vq3p80GWCYIi"
    }
  ],
  "metadata": {
    "kernelspec": {
      "display_name": "Python 3 (ipykernel)",
      "language": "python",
      "name": "python3"
    },
    "language_info": {
      "codemirror_mode": {
        "name": "ipython",
        "version": 3
      },
      "file_extension": ".py",
      "mimetype": "text/x-python",
      "name": "python",
      "nbconvert_exporter": "python",
      "pygments_lexer": "ipython3",
      "version": "3.9.12"
    },
    "colab": {
      "provenance": [],
      "toc_visible": true
    }
  },
  "nbformat": 4,
  "nbformat_minor": 5
}