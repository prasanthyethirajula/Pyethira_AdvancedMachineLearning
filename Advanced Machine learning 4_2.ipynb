{
 "cells": [
  {
   "cell_type": "markdown",
   "metadata": {
    "collapsed": true
   },
   "source": [
    "## AML Assignment 2"
   ]
  },
  {
   "cell_type": "markdown",
   "metadata": {},
   "source": [
    "### Loading the IMDB data \n",
    "\n",
    "\n"
   ]
  },
  {
   "cell_type": "code",
   "execution_count": 35,
   "metadata": {},
   "outputs": [
    {
     "name": "stdout",
     "output_type": "stream",
     "text": [
      "Requirement already satisfied: keras_preprocessing in c:\\users\\sidda\\anaconda3\\lib\\site-packages (1.1.2)\n",
      "Requirement already satisfied: numpy>=1.9.1 in c:\\users\\sidda\\anaconda3\\lib\\site-packages (from keras_preprocessing) (1.22.4)\n",
      "Requirement already satisfied: six>=1.9.0 in c:\\users\\sidda\\anaconda3\\lib\\site-packages (from keras_preprocessing) (1.16.0)\n"
     ]
    }
   ],
   "source": [
    "\n",
    "!pip install keras_preprocessing\n",
    "from keras.datasets import imdb\n",
    "from keras import preprocessing\n",
    "\n",
    "from keras_preprocessing.sequence import pad_sequences\n",
    "\n",
    "max_features = 10000 # nr of words to consider as features\n",
    "maxlen = 150 # cuts off the text after this nr of words among the most common words, i.e. 'max_features'\n",
    "(x_train, y_train), (x_test, y_test) = imdb.load_data(num_words =max_features) # loads the data as list of integers\n",
    "\n",
    "x_train = x_train[:200]\n",
    "y_train = y_train[:200]\n",
    "\n",
    "\n",
    "x_train = pad_sequences(x_train, maxlen=maxlen)\n",
    "x_test = pad_sequences(x_test, maxlen=maxlen) "
   ]
  },
  {
   "cell_type": "markdown",
   "metadata": {},
   "source": [
    "### Using an Embedding layer and classifier on the IMDB data.\n",
    "\n"
   ]
  },
  {
   "cell_type": "code",
   "execution_count": 36,
   "metadata": {},
   "outputs": [
    {
     "name": "stdout",
     "output_type": "stream",
     "text": [
      "Model: \"sequential_7\"\n",
      "_________________________________________________________________\n",
      " Layer (type)                Output Shape              Param #   \n",
      "=================================================================\n",
      " embedding_7 (Embedding)     (None, 150, 8)            80000     \n",
      "                                                                 \n",
      " flatten_5 (Flatten)         (None, 1200)              0         \n",
      "                                                                 \n",
      " dense_9 (Dense)             (None, 1)                 1201      \n",
      "                                                                 \n",
      "=================================================================\n",
      "Total params: 81,201\n",
      "Trainable params: 81,201\n",
      "Non-trainable params: 0\n",
      "_________________________________________________________________\n"
     ]
    }
   ],
   "source": [
    "from keras.layers import Embedding\n",
    "from keras.models import Sequential\n",
    "from keras.layers import Flatten, Dense\n",
    "\n",
    "model = Sequential()\n",
    "model.add(Embedding(10000, 8, input_length = maxlen)) \n",
    "\n",
    "model.add(Flatten()) # Flattens the 3D tensor of embeddings (=(samples, maxlen, 8)) into a 2D tensor of shape (samples,maxlen*8)\n",
    "\n",
    "model.add(Dense(1, activation=\"sigmoid\")) # Adds the classifier sigmoid on top (https://en.wikipedia.org/wiki/Sigmoid_function)\n",
    "model.compile(optimizer=\"rmsprop\", loss=\"binary_crossentropy\", metrics=[\"acc\"])\n",
    "model.summary()"
   ]
  },
  {
   "cell_type": "markdown",
   "metadata": {},
   "source": [
    "### Number of Parameters\n",
    "\n",
    "**Embedding** = vocabulary size i.e. input x output = 10.000 x 8 = 80.000\n",
    "\n",
    "**Dense** = maxlen i.e. input_length x Output + 1 = 300 x 8 + 1 =2.401\n",
    "\n",
    "*** Total params = 82.401***"
   ]
  },
  {
   "cell_type": "code",
   "execution_count": 37,
   "metadata": {},
   "outputs": [
    {
     "name": "stdout",
     "output_type": "stream",
     "text": [
      "Epoch 1/10\n",
      "5/5 [==============================] - 0s 36ms/step - loss: 0.6944 - acc: 0.5188 - val_loss: 0.6899 - val_acc: 0.5750\n",
      "Epoch 2/10\n",
      "5/5 [==============================] - 0s 11ms/step - loss: 0.6729 - acc: 0.8000 - val_loss: 0.6889 - val_acc: 0.6250\n",
      "Epoch 3/10\n",
      "5/5 [==============================] - 0s 10ms/step - loss: 0.6564 - acc: 0.9000 - val_loss: 0.6880 - val_acc: 0.5750\n",
      "Epoch 4/10\n",
      "5/5 [==============================] - 0s 9ms/step - loss: 0.6402 - acc: 0.9312 - val_loss: 0.6870 - val_acc: 0.5750\n",
      "Epoch 5/10\n",
      "5/5 [==============================] - 0s 8ms/step - loss: 0.6238 - acc: 0.9375 - val_loss: 0.6861 - val_acc: 0.6000\n",
      "Epoch 6/10\n",
      "5/5 [==============================] - 0s 9ms/step - loss: 0.6066 - acc: 0.9625 - val_loss: 0.6852 - val_acc: 0.5750\n",
      "Epoch 7/10\n",
      "5/5 [==============================] - 0s 8ms/step - loss: 0.5889 - acc: 0.9625 - val_loss: 0.6842 - val_acc: 0.5750\n",
      "Epoch 8/10\n",
      "5/5 [==============================] - 0s 8ms/step - loss: 0.5702 - acc: 0.9563 - val_loss: 0.6833 - val_acc: 0.5750\n",
      "Epoch 9/10\n",
      "5/5 [==============================] - 0s 8ms/step - loss: 0.5503 - acc: 0.9625 - val_loss: 0.6824 - val_acc: 0.5750\n",
      "Epoch 10/10\n",
      "5/5 [==============================] - 0s 9ms/step - loss: 0.5308 - acc: 0.9625 - val_loss: 0.6816 - val_acc: 0.5750\n"
     ]
    }
   ],
   "source": [
    "history = model.fit(x_train, y_train, epochs=10, batch_size=32, validation_split=0.2)"
   ]
  },
  {
   "cell_type": "code",
   "execution_count": 38,
   "metadata": {},
   "outputs": [
    {
     "data": {
      "image/png": "[encoded data removed]",
      "text/plain": [
       "<Figure size 432x288 with 1 Axes>"
      ]
     },
     "metadata": {
      "needs_background": "light"
     },
     "output_type": "display_data"
    },
    {
     "data": {
      "image/png": "[encoded data removed]",
      "text/plain": [
       "<Figure size 432x288 with 1 Axes>"
      ]
     },
     "metadata": {
      "needs_background": "light"
     },
     "output_type": "display_data"
    }
   ],
   "source": [
    "import matplotlib.pyplot as plt\n",
    "\n",
    "acc = history.history[\"acc\"] # Training accuracy\n",
    "val_acc = history.history[\"val_acc\"] # Validation accuracy\n",
    "loss = history.history[\"loss\"] # Training loss\n",
    "val_loss = history.history[\"val_loss\"] # Validation loss\n",
    "\n",
    "epochs = range(1, len(acc) + 1) #plots every epoch, here 10\n",
    "\n",
    "plt.plot(epochs, acc, \"bo\", label = \"Training acc\") # \"bo\" gives dot plot\n",
    "plt.plot(epochs, val_acc, \"b\", label = \"Validation acc\") # \"b\" gives line plot\n",
    "plt.title(\"Training and validation accuracy\")\n",
    "plt.legend()\n",
    "plt.figure()\n",
    "\n",
    "plt.plot(epochs, loss, \"bo\", label = \"Training loss\")\n",
    "plt.plot(epochs, val_loss, \"b\", label = \"Validation loss\")\n",
    "plt.title(\"Training and validation loss\")\n",
    "plt.legend()\n",
    "\n",
    "plt.show()"
   ]
  },
  {
   "cell_type": "markdown",
   "metadata": {},
   "source": [
    "### Using Pretrained Word Embeddings\n"
   ]
  },
  {
   "cell_type": "code",
   "execution_count": 39,
   "metadata": {},
   "outputs": [],
   "source": [
    "import os\n",
    "\n",
    "imdb_dir = \"./\"\n",
    "train_dir = os.path.join(imdb_dir, \"test\")\n",
    "\n",
    "\n",
    "labels = []\n",
    "texts = []\n",
    "\n",
    "for label_type in [\"neg\", \"pos\"]:\n",
    "    dir_name = os.path.join(train_dir, label_type)\n",
    "    for fname in os.listdir(dir_name):\n",
    "        if fname [-4:] == \".txt\":\n",
    "            #f = open(os.path.join(dir_name, fname))\n",
    "            # using code above gave: UnicodeDecodeError: 'charmap' codec can't decode byte 0x8d in position 194: character maps to <undefined>\n",
    "            # added: encoding='utf-8'\n",
    "            f = open(os.path.join(dir_name, fname), encoding='utf-8')\n",
    "            texts.append(f.read())\n",
    "            f.close()\n",
    "            if label_type == \"neg\":\n",
    "                labels.append(0)\n",
    "            else:\n",
    "                labels.append(1)                    \n",
    "                "
   ]
  },
  {
   "cell_type": "markdown",
   "metadata": {},
   "source": [
    "#### Tokenizing the data\n"
   ]
  },
  {
   "cell_type": "code",
   "execution_count": 40,
   "metadata": {},
   "outputs": [
    {
     "name": "stdout",
     "output_type": "stream",
     "text": [
      "Found 72633 unique tokens.\n",
      "Shape of data tensor: (17243, 150)\n",
      "Shape of label tensor: (17243,)\n"
     ]
    }
   ],
   "source": [
    "from keras.preprocessing.text import Tokenizer\n",
    "#from keras.preprocessing. sequence import pad_sequences\n",
    "import numpy as np\n",
    "from keras import preprocessing\n",
    "\n",
    "from keras_preprocessing.sequence import pad_sequences\n",
    "\n",
    "maxlen = 150 # cuts off review after 100 words\n",
    "training_samples = 200 # Trains on 200 samples\n",
    "validation_samples = 10000 # Validates o 10000 samples\n",
    "max_words = 10000 # Considers only the top 10000 words in the dataset\n",
    "\n",
    "tokenizer = Tokenizer(num_words=max_words)\n",
    "tokenizer.fit_on_texts(texts)\n",
    "sequences = tokenizer.texts_to_sequences(texts)\n",
    "word_index = tokenizer.word_index                   # Length: 88582\n",
    "print(\"Found %s unique tokens.\" % len(word_index))\n",
    "\n",
    "data = pad_sequences(sequences, maxlen=maxlen)\n",
    "\n",
    "labels = np.asarray(labels)\n",
    "print(\"Shape of data tensor:\", data.shape)\n",
    "print(\"Shape of label tensor:\", labels.shape)\n",
    "\n",
    "indices = np.arange(data.shape[0]) # Splits data into training and validation set, but shuffles is, since samples are ordered: \n",
    "# all negatives first, then all positive\n",
    "np.random.shuffle(indices)\n",
    "data = data[indices]\n",
    "labels = labels[indices]\n",
    "\n",
    "x_train = data[:training_samples] # (200, 100)\n",
    "y_train = labels[:training_samples] # shape (200,)\n",
    "x_val = data[training_samples:training_samples+validation_samples] # shape (10000, 100)\n",
    "y_val = labels[training_samples:training_samples+validation_samples] # shape (10000,)\n"
   ]
  },
  {
   "cell_type": "markdown",
   "metadata": {},
   "source": [
    "### Using the GloVe word embedding\n"
   ]
  },
  {
   "cell_type": "code",
   "execution_count": 41,
   "metadata": {},
   "outputs": [
    {
     "name": "stdout",
     "output_type": "stream",
     "text": [
      "found 400000 word vectors.\n"
     ]
    }
   ],
   "source": [
    "glove_dir = \".\\glove_6B_data\"\n",
    "\n",
    "embeddings_index = {}\n",
    "\n",
    "f = open(os.path.join(glove_dir, \"glove.6B.100d.txt\"), encoding='utf-8') #added , encoding='utf-8'\n",
    "for line in f:\n",
    "    values = line.split()\n",
    "    word = values[0]\n",
    "    coefs = np.asarray(values[1:], dtype=\"float32\")\n",
    "    embeddings_index[word] = coefs\n",
    "f.close()\n",
    "\n",
    "print(\"found %s word vectors.\" % len (embeddings_index))"
   ]
  },
  {
   "cell_type": "markdown",
   "metadata": {},
   "source": [
    "\n",
    "#### Preparing the GloVe word embeddings matrix"
   ]
  },
  {
   "cell_type": "code",
   "execution_count": 42,
   "metadata": {},
   "outputs": [],
   "source": [
    "embedding_dim = 100 # GloVe contains 100-dimensional embedding vectors for 400.000 words\n",
    "\n",
    "embedding_matrix = np.zeros((max_words, embedding_dim)) # embedding_matrix.shape (10000, 100)\n",
    "for word, i in word_index.items():\n",
    "    if i < max_words:\n",
    "        embedding_vector = embeddings_index.get(word) # embedding_vector.shape (100,)\n",
    "        if embedding_vector is not None:\n",
    "            embedding_matrix[i] = embedding_vector # Words not found in the mebedding index will all be zeros"
   ]
  },
  {
   "cell_type": "markdown",
   "metadata": {},
   "source": [
    "#### Model Definition"
   ]
  },
  {
   "cell_type": "code",
   "execution_count": 43,
   "metadata": {},
   "outputs": [
    {
     "name": "stdout",
     "output_type": "stream",
     "text": [
      "Model: \"sequential_8\"\n",
      "_________________________________________________________________\n",
      " Layer (type)                Output Shape              Param #   \n",
      "=================================================================\n",
      " embedding_8 (Embedding)     (None, 150, 100)          1000000   \n",
      "                                                                 \n",
      " flatten_6 (Flatten)         (None, 15000)             0         \n",
      "                                                                 \n",
      " dense_10 (Dense)            (None, 32)                480032    \n",
      "                                                                 \n",
      " dense_11 (Dense)            (None, 1)                 33        \n",
      "                                                                 \n",
      "=================================================================\n",
      "Total params: 1,480,065\n",
      "Trainable params: 1,480,065\n",
      "Non-trainable params: 0\n",
      "_________________________________________________________________\n"
     ]
    }
   ],
   "source": [
    "from keras.models import Sequential\n",
    "from keras.layers import Embedding, Flatten, Dense\n",
    "\n",
    "model = Sequential()\n",
    "model.add(Embedding(max_words, embedding_dim, input_length = maxlen)) \n",
    "model.add(Flatten()) \n",
    "model.add(Dense(32, activation = \"relu\"))\n",
    "model.add(Dense(1, activation=\"sigmoid\")) \n",
    "model.summary()"
   ]
  },
  {
   "cell_type": "markdown",
   "metadata": {},
   "source": [
    "\n",
    "#### Loading pretrained word embedding into the Embeddig layer\n"
   ]
  },
  {
   "cell_type": "code",
   "execution_count": 44,
   "metadata": {},
   "outputs": [],
   "source": [
    "model.layers[0].set_weights([embedding_matrix])\n",
    "model.layers[0].trainable = False \n"
   ]
  },
  {
   "cell_type": "markdown",
   "metadata": {},
   "source": [
    "#### Training and Evaluating the Model"
   ]
  },
  {
   "cell_type": "code",
   "execution_count": 45,
   "metadata": {},
   "outputs": [
    {
     "name": "stdout",
     "output_type": "stream",
     "text": [
      "Epoch 1/10\n",
      "7/7 [==============================] - 1s 128ms/step - loss: 1.3668 - acc: 0.5650 - val_loss: 0.5982 - val_acc: 0.7195\n",
      "Epoch 2/10\n",
      "7/7 [==============================] - 1s 119ms/step - loss: 0.4479 - acc: 0.7550 - val_loss: 0.6025 - val_acc: 0.7195\n",
      "Epoch 3/10\n",
      "7/7 [==============================] - 1s 107ms/step - loss: 0.3569 - acc: 0.7600 - val_loss: 0.8366 - val_acc: 0.7195\n",
      "Epoch 4/10\n",
      "7/7 [==============================] - 1s 142ms/step - loss: 0.3169 - acc: 0.7950 - val_loss: 0.7371 - val_acc: 0.7195\n",
      "Epoch 5/10\n",
      "7/7 [==============================] - 1s 122ms/step - loss: 0.2747 - acc: 0.8550 - val_loss: 0.8191 - val_acc: 0.7195\n",
      "Epoch 6/10\n",
      "7/7 [==============================] - 1s 141ms/step - loss: 0.2179 - acc: 0.8650 - val_loss: 0.9828 - val_acc: 0.7195\n",
      "Epoch 7/10\n",
      "7/7 [==============================] - 1s 111ms/step - loss: 0.2189 - acc: 0.8800 - val_loss: 0.8942 - val_acc: 0.7195\n",
      "Epoch 8/10\n",
      "7/7 [==============================] - 1s 132ms/step - loss: 0.1925 - acc: 0.9000 - val_loss: 1.0304 - val_acc: 0.7195\n",
      "Epoch 9/10\n",
      "7/7 [==============================] - 1s 111ms/step - loss: 0.1927 - acc: 0.8900 - val_loss: 0.7523 - val_acc: 0.7192\n",
      "Epoch 10/10\n",
      "7/7 [==============================] - 1s 133ms/step - loss: 0.1777 - acc: 0.9450 - val_loss: 0.8250 - val_acc: 0.7193\n"
     ]
    }
   ],
   "source": [
    "model.compile(optimizer = \"rmsprop\", \n",
    "              loss = \"binary_crossentropy\", # in a multiclass problem categorical_crossentropy would be used\n",
    "              metrics = [\"acc\"]) \n",
    "history = model.fit(x_train, y_train,\n",
    "                   epochs = 10,\n",
    "                   batch_size = 32,\n",
    "                   validation_data = (x_val, y_val))\n",
    "model.save_weights(\"pre_trained_glove_model.h5\")        "
   ]
  },
  {
   "cell_type": "markdown",
   "metadata": {},
   "source": [
    "#### Plotting the Results"
   ]
  },
  {
   "cell_type": "code",
   "execution_count": 46,
   "metadata": {},
   "outputs": [
    {
     "data": {
      "image/png": "[encoded data removed]",
      "text/plain": [
       "<Figure size 432x288 with 1 Axes>"
      ]
     },
     "metadata": {
      "needs_background": "light"
     },
     "output_type": "display_data"
    },
    {
     "data": {
      "image/png": "[encoded data removed]",
      "text/plain": [
       "<Figure size 432x288 with 1 Axes>"
      ]
     },
     "metadata": {
      "needs_background": "light"
     },
     "output_type": "display_data"
    }
   ],
   "source": [
    "import matplotlib.pyplot as plt\n",
    "\n",
    "acc = history.history[\"acc\"] # Training accuracy\n",
    "val_acc = history.history[\"val_acc\"] # Validation accuracy\n",
    "loss = history.history[\"loss\"] # Training loss\n",
    "val_loss = history.history[\"val_loss\"] # Validation loss\n",
    "\n",
    "epochs = range(1, len(acc) + 1) #plots every epoch, here 10\n",
    "\n",
    "plt.plot(epochs, acc, \"bo\", label = \"Training acc\") # \"bo\" gives dot plot\n",
    "plt.plot(epochs, val_acc, \"b\", label = \"Validation acc\") # \"b\" gives line plot\n",
    "plt.title(\"Training and validation accuracy\")\n",
    "plt.legend()\n",
    "plt.figure()\n",
    "\n",
    "plt.plot(epochs, loss, \"bo\", label = \"Training loss\")\n",
    "plt.plot(epochs, val_loss, \"b\", label = \"Validation loss\")\n",
    "plt.title(\"Training and validation loss\")\n",
    "plt.legend()\n",
    "\n",
    "plt.show()"
   ]
  },
  {
   "cell_type": "markdown",
   "metadata": {},
   "source": [
    "### A concrete LSTM example\n",
    "#### Preparing the IMDB data"
   ]
  },
  {
   "cell_type": "code",
   "execution_count": 47,
   "metadata": {},
   "outputs": [
    {
     "name": "stdout",
     "output_type": "stream",
     "text": [
      "loading data ...\n",
      "5000 train sequences\n",
      "5000 test sequences\n",
      "Pad sequences (samples x time)\n",
      "input_train shape: (5000, 150)\n",
      "input_test shape: (5000,)\n"
     ]
    }
   ],
   "source": [
    "from keras.datasets import imdb\n",
    "# from keras.preprocessing import sequence\n",
    "from keras_preprocessing.sequence import pad_sequences\n",
    "\n",
    "\n",
    "max_features = 10000 # nr of words to consider as features CUTTING THIS DOWN TO 1000 FROM 10.000!!!\n",
    "maxlen = 150 # cuts off the text after this nr of words among the most common words, i.e. 'max_features' CUT FROM 500 TO 100 !!!\n",
    "batch_size = 32\n",
    "\n",
    "print (\"loading data ...\")\n",
    "(input_train, y_train), (input_test, y_test) = imdb.load_data(num_words = max_features)\n",
    "\n",
    "input_train = input_train[:5000]\n",
    "y_train = y_train[:5000]\n",
    "input_test = input_test[:5000]\n",
    "y_test = y_test[:5000]\n",
    "\n",
    "print(len(input_train), \"train sequences\")\n",
    "print(len(input_test), \"test sequences\")\n",
    "\n",
    "\n",
    "print(\"Pad sequences (samples x time)\")\n",
    "input_train = pad_sequences(input_train, maxlen=maxlen)\n",
    "print(\"input_train shape:\", input_train.shape)\n",
    "print(\"input_test shape:\", input_test.shape)"
   ]
  },
  {
   "cell_type": "code",
   "execution_count": 48,
   "metadata": {
    "scrolled": false
   },
   "outputs": [
    {
     "name": "stdout",
     "output_type": "stream",
     "text": [
      "Epoch 1/10\n",
      "32/32 [==============================] - 3s 56ms/step - loss: 0.6917 - acc: 0.5275 - val_loss: 0.6892 - val_acc: 0.5820\n",
      "Epoch 2/10\n",
      "32/32 [==============================] - 1s 46ms/step - loss: 0.6762 - acc: 0.6192 - val_loss: 0.6420 - val_acc: 0.6300\n",
      "Epoch 3/10\n",
      "32/32 [==============================] - 2s 47ms/step - loss: 0.5642 - acc: 0.7178 - val_loss: 0.5541 - val_acc: 0.7410\n",
      "Epoch 4/10\n",
      "32/32 [==============================] - 2s 47ms/step - loss: 0.4448 - acc: 0.8188 - val_loss: 0.5467 - val_acc: 0.7450\n",
      "Epoch 5/10\n",
      "32/32 [==============================] - 2s 48ms/step - loss: 0.3529 - acc: 0.8710 - val_loss: 0.4218 - val_acc: 0.8120\n",
      "Epoch 6/10\n",
      "32/32 [==============================] - 2s 47ms/step - loss: 0.2865 - acc: 0.8930 - val_loss: 0.4562 - val_acc: 0.7930\n",
      "Epoch 7/10\n",
      "32/32 [==============================] - 2s 47ms/step - loss: 0.2219 - acc: 0.9300 - val_loss: 0.4113 - val_acc: 0.8240\n",
      "Epoch 8/10\n",
      "32/32 [==============================] - 2s 48ms/step - loss: 0.1856 - acc: 0.9410 - val_loss: 0.4726 - val_acc: 0.8160\n",
      "Epoch 9/10\n",
      "32/32 [==============================] - 1s 46ms/step - loss: 0.1433 - acc: 0.9557 - val_loss: 0.6914 - val_acc: 0.7790\n",
      "Epoch 10/10\n",
      "32/32 [==============================] - 2s 47ms/step - loss: 0.1304 - acc: 0.9595 - val_loss: 0.4714 - val_acc: 0.8070\n"
     ]
    }
   ],
   "source": [
    "from keras.models import Sequential\n",
    "from keras.layers import Embedding\n",
    "from keras.layers import LSTM\n",
    "from keras.layers import Flatten, Dense\n",
    "\n",
    "model = Sequential()\n",
    "model.add(Embedding(max_features, 32))\n",
    "model.add(LSTM(32))\n",
    "model.add(Dense(1, activation = \"sigmoid\"))\n",
    "\n",
    "model.compile(optimizer = \"rmsprop\",\n",
    "             loss = \"binary_crossentropy\",\n",
    "             metrics = [\"acc\"])\n",
    "history = model.fit(input_train, y_train, epochs=10, batch_size=128, validation_split=0.2)"
   ]
  },
  {
   "cell_type": "markdown",
   "metadata": {},
   "source": [
    "Despite the drastically smaller datasets the LSTM model performs surprisingly well!"
   ]
  },
  {
   "cell_type": "code",
   "execution_count": 49,
   "metadata": {},
   "outputs": [
    {
     "data": {
      "image/png": "[encoded data removed]",
      "text/plain": [
       "<Figure size 432x288 with 1 Axes>"
      ]
     },
     "metadata": {
      "needs_background": "light"
     },
     "output_type": "display_data"
    },
    {
     "data": {
      "image/png": "[encoded data removed]",
      "text/plain": [
       "<Figure size 432x288 with 1 Axes>"
      ]
     },
     "metadata": {
      "needs_background": "light"
     },
     "output_type": "display_data"
    }
   ],
   "source": [
    "import matplotlib.pyplot as plt\n",
    "\n",
    "acc = history.history[\"acc\"] # Training accuracy\n",
    "val_acc = history.history[\"val_acc\"] # Validation accuracy\n",
    "loss = history.history[\"loss\"] # Training loss\n",
    "val_loss = history.history[\"val_loss\"] # Validation loss\n",
    "\n",
    "epochs = range(1, len(acc) + 1) #plots every epoch, here 10\n",
    "\n",
    "plt.plot(epochs, acc, \"bo\", label = \"Training acc\") # \"bo\" gives dot plot\n",
    "plt.plot(epochs, val_acc, \"b\", label = \"Validation acc\") # \"b\" gives line plot\n",
    "plt.title(\"Training and validation accuracy\")\n",
    "plt.legend()\n",
    "plt.figure()\n",
    "\n",
    "plt.plot(epochs, loss, \"bo\", label = \"Training loss\")\n",
    "plt.plot(epochs, val_loss, \"b\", label = \"Validation loss\")\n",
    "plt.title(\"Training and validation loss\")\n",
    "plt.legend()\n",
    "\n",
    "plt.show()"
   ]
  },
  {
   "cell_type": "markdown",
   "metadata": {
    "collapsed": true
   },
   "source": [
    "### Summary of graphs \n",
    "- not fully comparable with each other due to various inputs/amounts of data in the three models"
   ]
  },
  {
   "cell_type": "markdown",
   "metadata": {},
   "source": [
    "![alt text](SummaryOfGraphs.jpg \"\")"
   ]
  },
  {
   "cell_type": "code",
   "execution_count": null,
   "metadata": {},
   "outputs": [],
   "source": []
  }
 ],
 "metadata": {
  "kernelspec": {
   "display_name": "Python 3 (ipykernel)",
   "language": "python",
   "name": "python3"
  },
  "language_info": {
   "codemirror_mode": {
    "name": "ipython",
    "version": 3
   },
   "file_extension": ".py",
   "mimetype": "text/x-python",
   "name": "python",
   "nbconvert_exporter": "python",
   "pygments_lexer": "ipython3",
   "version": "3.9.7"
  }
 },
 "nbformat": 4,
 "nbformat_minor": 2
}
