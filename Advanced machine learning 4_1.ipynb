{
 "cells": [
  {
   "cell_type": "markdown",
   "metadata": {
    "collapsed": true
   },
   "source": [
    "## AML Assignment 2"
   ]
  },
  {
   "cell_type": "markdown",
   "metadata": {},
   "source": [
    "### Loading the IMDB data \n",
    "\n",
    "\n"
   ]
  },
  {
   "cell_type": "code",
   "execution_count": 85,
   "metadata": {},
   "outputs": [
    {
     "name": "stdout",
     "output_type": "stream",
     "text": [
      "Requirement already satisfied: keras_preprocessing in c:\\users\\sidda\\anaconda3\\lib\\site-packages (1.1.2)\n",
      "Requirement already satisfied: six>=1.9.0 in c:\\users\\sidda\\anaconda3\\lib\\site-packages (from keras_preprocessing) (1.16.0)\n",
      "Requirement already satisfied: numpy>=1.9.1 in c:\\users\\sidda\\anaconda3\\lib\\site-packages (from keras_preprocessing) (1.22.4)\n"
     ]
    }
   ],
   "source": [
    "\n",
    "!pip install keras_preprocessing\n",
    "from keras.datasets import imdb\n",
    "from keras import preprocessing\n",
    "\n",
    "from keras_preprocessing.sequence import pad_sequences\n",
    "\n",
    "max_features = 10000 \n",
    "maxlen = 150 \n",
    "(x_train, y_train), (x_test, y_test) = imdb.load_data(num_words =max_features) \n",
    "\n",
    "x_train = x_train[:100]\n",
    "y_train = y_train[:100]\n",
    "\n",
    "x_train = pad_sequences(x_train, maxlen=maxlen)\n",
    "x_test = pad_sequences(x_test, maxlen=maxlen) "
   ]
  },
  {
   "cell_type": "markdown",
   "metadata": {},
   "source": [
    "### Using an Embedding layer and classifier on the IMDB data.\n",
    "\n"
   ]
  },
  {
   "cell_type": "code",
   "execution_count": 86,
   "metadata": {},
   "outputs": [
    {
     "name": "stdout",
     "output_type": "stream",
     "text": [
      "Model: \"sequential_15\"\n",
      "_________________________________________________________________\n",
      " Layer (type)                Output Shape              Param #   \n",
      "=================================================================\n",
      " embedding_15 (Embedding)    (None, 150, 8)            80000     \n",
      "                                                                 \n",
      " flatten_12 (Flatten)        (None, 1200)              0         \n",
      "                                                                 \n",
      " dense_21 (Dense)            (None, 1)                 1201      \n",
      "                                                                 \n",
      "=================================================================\n",
      "Total params: 81,201\n",
      "Trainable params: 81,201\n",
      "Non-trainable params: 0\n",
      "_________________________________________________________________\n"
     ]
    }
   ],
   "source": [
    "from keras.layers import Embedding\n",
    "from keras.models import Sequential\n",
    "from keras.layers import Flatten, Dense\n",
    "\n",
    "model = Sequential()\n",
    "model.add(Embedding(10000, 8, input_length = maxlen)) \n",
    "\n",
    "model.add(Flatten()) \n",
    "\n",
    "model.add(Dense(1, activation=\"sigmoid\")) \n",
    "model.compile(optimizer=\"rmsprop\", loss=\"binary_crossentropy\", metrics=[\"acc\"])\n",
    "model.summary()"
   ]
  },
  {
   "cell_type": "markdown",
   "metadata": {},
   "source": [
    "### Number of Parameters\n",
    "\n",
    "**Embedding** = vocabulary size i.e. input x output = 10.000 x 8 = 80.000\n",
    "\n",
    "**Dense** = maxlen i.e. input_length x Output + 1 = 300 x 8 + 1 =2.401\n",
    "\n",
    "*** Total params = 82.401***"
   ]
  },
  {
   "cell_type": "code",
   "execution_count": 87,
   "metadata": {
    "scrolled": true
   },
   "outputs": [
    {
     "name": "stdout",
     "output_type": "stream",
     "text": [
      "Epoch 1/10\n",
      "3/3 [==============================] - 0s 65ms/step - loss: 0.6925 - acc: 0.5625 - val_loss: 0.6904 - val_acc: 0.6000\n",
      "Epoch 2/10\n",
      "3/3 [==============================] - 0s 15ms/step - loss: 0.6686 - acc: 0.8625 - val_loss: 0.6908 - val_acc: 0.6500\n",
      "Epoch 3/10\n",
      "3/3 [==============================] - 0s 12ms/step - loss: 0.6517 - acc: 0.9125 - val_loss: 0.6909 - val_acc: 0.6500\n",
      "Epoch 4/10\n",
      "3/3 [==============================] - 0s 17ms/step - loss: 0.6364 - acc: 0.9625 - val_loss: 0.6921 - val_acc: 0.6500\n",
      "Epoch 5/10\n",
      "3/3 [==============================] - 0s 16ms/step - loss: 0.6212 - acc: 0.9750 - val_loss: 0.6929 - val_acc: 0.6500\n",
      "Epoch 6/10\n",
      "3/3 [==============================] - 0s 16ms/step - loss: 0.6059 - acc: 0.9875 - val_loss: 0.6941 - val_acc: 0.6500\n",
      "Epoch 7/10\n",
      "3/3 [==============================] - 0s 21ms/step - loss: 0.5904 - acc: 0.9875 - val_loss: 0.6943 - val_acc: 0.6500\n",
      "Epoch 8/10\n",
      "3/3 [==============================] - 0s 16ms/step - loss: 0.5747 - acc: 1.0000 - val_loss: 0.6950 - val_acc: 0.6500\n",
      "Epoch 9/10\n",
      "3/3 [==============================] - 0s 19ms/step - loss: 0.5587 - acc: 1.0000 - val_loss: 0.6962 - val_acc: 0.6500\n",
      "Epoch 10/10\n",
      "3/3 [==============================] - 0s 16ms/step - loss: 0.5422 - acc: 1.0000 - val_loss: 0.6977 - val_acc: 0.6500\n"
     ]
    }
   ],
   "source": [
    "history = model.fit(x_train, y_train, epochs=10, batch_size=32, validation_split=0.2)"
   ]
  },
  {
   "cell_type": "code",
   "execution_count": 88,
   "metadata": {},
   "outputs": [
    {
     "data": {
      "image/png": "[encoded data removed]",
      "text/plain": [
       "<Figure size 432x288 with 1 Axes>"
      ]
     },
     "metadata": {
      "needs_background": "light"
     },
     "output_type": "display_data"
    },
    {
     "data": {
      "image/png": "[encoded data removed]",
      "text/plain": [
       "<Figure size 432x288 with 1 Axes>"
      ]
     },
     "metadata": {
      "needs_background": "light"
     },
     "output_type": "display_data"
    }
   ],
   "source": [
    "import matplotlib.pyplot as plt\n",
    "\n",
    "acc = history.history[\"acc\"] # Training accuracy\n",
    "val_acc = history.history[\"val_acc\"] # Validation accuracy\n",
    "loss = history.history[\"loss\"] # Training loss\n",
    "val_loss = history.history[\"val_loss\"] # Validation loss\n",
    "\n",
    "epochs = range(1, len(acc) + 1) #plots every epoch, here 10\n",
    "\n",
    "plt.plot(epochs, acc, \"bo\", label = \"Training acc\") # \"bo\" gives dot plot\n",
    "plt.plot(epochs, val_acc, \"b\", label = \"Validation acc\") # \"b\" gives line plot\n",
    "plt.title(\"Training and validation accuracy\")\n",
    "plt.legend()\n",
    "plt.figure()\n",
    "\n",
    "plt.plot(epochs, loss, \"bo\", label = \"Training loss\")\n",
    "plt.plot(epochs, val_loss, \"b\", label = \"Validation loss\")\n",
    "plt.title(\"Training and validation loss\")\n",
    "plt.legend()\n",
    "\n",
    "plt.show()"
   ]
  },
  {
   "cell_type": "markdown",
   "metadata": {},
   "source": [
    "### Using Pretrained Word Embeddings\n"
   ]
  },
  {
   "cell_type": "code",
   "execution_count": 89,
   "metadata": {},
   "outputs": [],
   "source": [
    "import os\n",
    "\n",
    "imdb_dir = \"./\"\n",
    "train_dir = os.path.join(imdb_dir, \"test\")\n",
    "\n",
    "\n",
    "labels = []\n",
    "texts = []\n",
    "\n",
    "for label_type in [\"neg\", \"pos\"]:\n",
    "    dir_name = os.path.join(train_dir, label_type)\n",
    "    for fname in os.listdir(dir_name):\n",
    "        if fname [-4:] == \".txt\":\n",
    "            #f = open(os.path.join(dir_name, fname))\n",
    "            # using code above gave: UnicodeDecodeError: 'charmap' codec can't decode byte 0x8d in position 194: character maps to <undefined>\n",
    "            # added: encoding='utf-8'\n",
    "            f = open(os.path.join(dir_name, fname), encoding='utf-8')\n",
    "            texts.append(f.read())\n",
    "            f.close()\n",
    "            if label_type == \"neg\":\n",
    "                labels.append(0)\n",
    "            else:\n",
    "                labels.append(1)                    \n",
    "                "
   ]
  },
  {
   "cell_type": "markdown",
   "metadata": {},
   "source": [
    "#### Tokenizing the data\n"
   ]
  },
  {
   "cell_type": "code",
   "execution_count": 90,
   "metadata": {},
   "outputs": [
    {
     "name": "stdout",
     "output_type": "stream",
     "text": [
      "Found 72633 unique tokens.\n",
      "Shape of data tensor: (17243, 150)\n",
      "Shape of label tensor: (17243,)\n"
     ]
    }
   ],
   "source": [
    "from keras.preprocessing.text import Tokenizer\n",
    "#from keras.preprocessing. sequence import pad_sequences\n",
    "import numpy as np\n",
    "from keras import preprocessing\n",
    "\n",
    "from keras_preprocessing.sequence import pad_sequences\n",
    "\n",
    "maxlen = 150 # cuts off review after 100 words\n",
    "training_samples = 200 # Trains on 100 samples\n",
    "validation_samples = 10000 # Validates o 10000 samples\n",
    "max_words = 10000 # Considers only the top 10000 words in the dataset\n",
    "\n",
    "tokenizer = Tokenizer(num_words=max_words)\n",
    "tokenizer.fit_on_texts(texts)\n",
    "sequences = tokenizer.texts_to_sequences(texts)\n",
    "word_index = tokenizer.word_index                   # Length: 88582\n",
    "print(\"Found %s unique tokens.\" % len(word_index))\n",
    "\n",
    "data = pad_sequences(sequences, maxlen=maxlen)\n",
    "\n",
    "labels = np.asarray(labels)\n",
    "print(\"Shape of data tensor:\", data.shape)\n",
    "print(\"Shape of label tensor:\", labels.shape)\n",
    "\n",
    "indices = np.arange(data.shape[0]) # Splits data into training and validation set, but shuffles is, since samples are ordered: \n",
    "# all negatives first, then all positive\n",
    "np.random.shuffle(indices)\n",
    "data = data[indices]\n",
    "labels = labels[indices]\n",
    "\n",
    "x_train = data[:training_samples] # (200, 100)\n",
    "y_train = labels[:training_samples] # shape (200,)\n",
    "x_val = data[training_samples:training_samples+validation_samples] # shape (10000, 100)\n",
    "y_val = labels[training_samples:training_samples+validation_samples] # shape (10000,)\n"
   ]
  },
  {
   "cell_type": "markdown",
   "metadata": {},
   "source": [
    "### Using the GloVe word embedding\n"
   ]
  },
  {
   "cell_type": "code",
   "execution_count": 91,
   "metadata": {},
   "outputs": [
    {
     "name": "stdout",
     "output_type": "stream",
     "text": [
      "found 400000 word vectors.\n"
     ]
    }
   ],
   "source": [
    "glove_dir = \".\\glove_6B_data\"\n",
    "\n",
    "embeddings_index = {}\n",
    "\n",
    "f = open(os.path.join(glove_dir, \"glove.6B.100d.txt\"), encoding='utf-8') #added , encoding='utf-8'\n",
    "for line in f:\n",
    "    values = line.split()\n",
    "    word = values[0]\n",
    "    coefs = np.asarray(values[1:], dtype=\"float32\")\n",
    "    embeddings_index[word] = coefs\n",
    "f.close()\n",
    "\n",
    "print(\"found %s word vectors.\" % len (embeddings_index))"
   ]
  },
  {
   "cell_type": "markdown",
   "metadata": {},
   "source": [
    "\n",
    "#### Preparing the GloVe word embeddings matrix"
   ]
  },
  {
   "cell_type": "code",
   "execution_count": 92,
   "metadata": {},
   "outputs": [],
   "source": [
    "embedding_dim = 100 # GloVe contains 100-dimensional embedding vectors for 400.000 words\n",
    "\n",
    "embedding_matrix = np.zeros((max_words, embedding_dim)) # embedding_matrix.shape (10000, 100)\n",
    "for word, i in word_index.items():\n",
    "    if i < max_words:\n",
    "        embedding_vector = embeddings_index.get(word) # embedding_vector.shape (100,)\n",
    "        if embedding_vector is not None:\n",
    "            embedding_matrix[i] = embedding_vector # Words not found in the mebedding index will all be zeros"
   ]
  },
  {
   "cell_type": "markdown",
   "metadata": {},
   "source": [
    "#### Model Definition"
   ]
  },
  {
   "cell_type": "code",
   "execution_count": 93,
   "metadata": {},
   "outputs": [
    {
     "name": "stdout",
     "output_type": "stream",
     "text": [
      "Model: \"sequential_16\"\n",
      "_________________________________________________________________\n",
      " Layer (type)                Output Shape              Param #   \n",
      "=================================================================\n",
      " embedding_16 (Embedding)    (None, 150, 100)          1000000   \n",
      "                                                                 \n",
      " flatten_13 (Flatten)        (None, 15000)             0         \n",
      "                                                                 \n",
      " dense_22 (Dense)            (None, 32)                480032    \n",
      "                                                                 \n",
      " dense_23 (Dense)            (None, 1)                 33        \n",
      "                                                                 \n",
      "=================================================================\n",
      "Total params: 1,480,065\n",
      "Trainable params: 1,480,065\n",
      "Non-trainable params: 0\n",
      "_________________________________________________________________\n"
     ]
    }
   ],
   "source": [
    "from keras.models import Sequential\n",
    "from keras.layers import Embedding, Flatten, Dense\n",
    "\n",
    "model = Sequential()\n",
    "model.add(Embedding(max_words, embedding_dim, input_length = maxlen)) \n",
    "model.add(Flatten()) \n",
    "model.add(Dense(32, activation = \"relu\"))\n",
    "model.add(Dense(1, activation=\"sigmoid\")) \n",
    "model.summary()"
   ]
  },
  {
   "cell_type": "markdown",
   "metadata": {},
   "source": [
    "\n",
    "#### Loading pretrained word embedding into the Embeddig layer\n"
   ]
  },
  {
   "cell_type": "code",
   "execution_count": 94,
   "metadata": {},
   "outputs": [],
   "source": [
    "model.layers[0].set_weights([embedding_matrix])\n",
    "model.layers[0].trainable = False \n"
   ]
  },
  {
   "cell_type": "markdown",
   "metadata": {},
   "source": [
    "#### Training and Evaluating the Model"
   ]
  },
  {
   "cell_type": "code",
   "execution_count": 95,
   "metadata": {},
   "outputs": [
    {
     "name": "stdout",
     "output_type": "stream",
     "text": [
      "Epoch 1/10\n",
      "7/7 [==============================] - 1s 142ms/step - loss: 1.7409 - acc: 0.5550 - val_loss: 1.1073 - val_acc: 0.2772\n",
      "Epoch 2/10\n",
      "7/7 [==============================] - 1s 161ms/step - loss: 0.4695 - acc: 0.7800 - val_loss: 0.6224 - val_acc: 0.7224\n",
      "Epoch 3/10\n",
      "7/7 [==============================] - 1s 160ms/step - loss: 0.6622 - acc: 0.7850 - val_loss: 1.6161 - val_acc: 0.2777\n",
      "Epoch 4/10\n",
      "7/7 [==============================] - 1s 142ms/step - loss: 0.3024 - acc: 0.8850 - val_loss: 0.7313 - val_acc: 0.5143\n",
      "Epoch 5/10\n",
      "7/7 [==============================] - 1s 168ms/step - loss: 0.1276 - acc: 0.9950 - val_loss: 0.6412 - val_acc: 0.6407\n",
      "Epoch 6/10\n",
      "7/7 [==============================] - 1s 141ms/step - loss: 0.0753 - acc: 0.9950 - val_loss: 0.6438 - val_acc: 0.7248\n",
      "Epoch 7/10\n",
      "7/7 [==============================] - 1s 160ms/step - loss: 0.0512 - acc: 0.9950 - val_loss: 1.8842 - val_acc: 0.2996\n",
      "Epoch 8/10\n",
      "7/7 [==============================] - 1s 155ms/step - loss: 0.3303 - acc: 0.8700 - val_loss: 0.6351 - val_acc: 0.6553\n",
      "Epoch 9/10\n",
      "7/7 [==============================] - 1s 173ms/step - loss: 0.0235 - acc: 1.0000 - val_loss: 0.6303 - val_acc: 0.6780\n",
      "Epoch 10/10\n",
      "7/7 [==============================] - 1s 143ms/step - loss: 0.0173 - acc: 1.0000 - val_loss: 0.6352 - val_acc: 0.7068\n"
     ]
    }
   ],
   "source": [
    "model.compile(optimizer = \"rmsprop\", \n",
    "              loss = \"binary_crossentropy\", # in a multiclass problem categorical_crossentropy would be used\n",
    "              metrics = [\"acc\"]) \n",
    "history = model.fit(x_train, y_train,\n",
    "                   epochs = 10,\n",
    "                   batch_size = 32,\n",
    "                   validation_data = (x_val, y_val))\n",
    "model.save_weights(\"pre_trained_glove_model.h5\")        "
   ]
  },
  {
   "cell_type": "markdown",
   "metadata": {},
   "source": [
    "#### Plotting the Results"
   ]
  },
  {
   "cell_type": "code",
   "execution_count": 96,
   "metadata": {},
   "outputs": [
    {
     "data": {
      "image/png": "[encoded data removed]",
      "text/plain": [
       "<Figure size 432x288 with 1 Axes>"
      ]
     },
     "metadata": {
      "needs_background": "light"
     },
     "output_type": "display_data"
    },
    {
     "data": {
      "image/png": "[encoded data removed]",
      "text/plain": [
       "<Figure size 432x288 with 1 Axes>"
      ]
     },
     "metadata": {
      "needs_background": "light"
     },
     "output_type": "display_data"
    }
   ],
   "source": [
    "import matplotlib.pyplot as plt\n",
    "\n",
    "acc = history.history[\"acc\"] # Training accuracy\n",
    "val_acc = history.history[\"val_acc\"] # Validation accuracy\n",
    "loss = history.history[\"loss\"] # Training loss\n",
    "val_loss = history.history[\"val_loss\"] # Validation loss\n",
    "\n",
    "epochs = range(1, len(acc) + 1) #plots every epoch, here 10\n",
    "\n",
    "plt.plot(epochs, acc, \"bo\", label = \"Training acc\") # \"bo\" gives dot plot\n",
    "plt.plot(epochs, val_acc, \"b\", label = \"Validation acc\") # \"b\" gives line plot\n",
    "plt.title(\"Training and validation accuracy\")\n",
    "plt.legend()\n",
    "plt.figure()\n",
    "\n",
    "plt.plot(epochs, loss, \"bo\", label = \"Training loss\")\n",
    "plt.plot(epochs, val_loss, \"b\", label = \"Validation loss\")\n",
    "plt.title(\"Training and validation loss\")\n",
    "plt.legend()\n",
    "\n",
    "plt.show()"
   ]
  }
 ],
 "metadata": {
  "kernelspec": {
   "display_name": "Python 3 (ipykernel)",
   "language": "python",
   "name": "python3"
  },
  "language_info": {
   "codemirror_mode": {
    "name": "ipython",
    "version": 3
   },
   "file_extension": ".py",
   "mimetype": "text/x-python",
   "name": "python",
   "nbconvert_exporter": "python",
   "pygments_lexer": "ipython3",
   "version": "3.9.7"
  }
 },
 "nbformat": 4,
 "nbformat_minor": 2
}
